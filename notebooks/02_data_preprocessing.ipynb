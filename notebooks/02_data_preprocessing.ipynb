{
 "cells": [
  {
   "cell_type": "code",
   "execution_count": 22,
   "id": "01915976",
   "metadata": {},
   "outputs": [],
   "source": [
    "import pandas as pd"
   ]
  },
  {
   "cell_type": "code",
   "execution_count": 23,
   "id": "58008a08",
   "metadata": {},
   "outputs": [],
   "source": [
    "import sys\n",
    "import os\n",
    "\n",
    "# Add parent directory to the system path\n",
    "sys.path.append(os.path.abspath(\"..\"))  #os.path.abspath(\"..\") gets the absolute path to your project root\n",
    "    #sys.path.append(...) tells Python to also look there for modules\n",
    "\n",
    "from src.preprocess import clean_text"
   ]
  },
  {
   "cell_type": "code",
   "execution_count": 24,
   "id": "994ce1c8",
   "metadata": {},
   "outputs": [],
   "source": [
    "df = pd.read_csv(r\"C:\\Users\\DELL\\Desktop\\movie_recommender_sentiment\\data\\IMDB_Dataset.csv\")"
   ]
  },
  {
   "cell_type": "code",
   "execution_count": 25,
   "id": "bcad842f",
   "metadata": {},
   "outputs": [],
   "source": [
    "df['cleaned_review'] = df['review'].apply(clean_text)"
   ]
  },
  {
   "cell_type": "code",
   "execution_count": 26,
   "id": "de404b5f",
   "metadata": {},
   "outputs": [
    {
     "data": {
      "text/html": [
       "<div>\n",
       "<style scoped>\n",
       "    .dataframe tbody tr th:only-of-type {\n",
       "        vertical-align: middle;\n",
       "    }\n",
       "\n",
       "    .dataframe tbody tr th {\n",
       "        vertical-align: top;\n",
       "    }\n",
       "\n",
       "    .dataframe thead th {\n",
       "        text-align: right;\n",
       "    }\n",
       "</style>\n",
       "<table border=\"1\" class=\"dataframe\">\n",
       "  <thead>\n",
       "    <tr style=\"text-align: right;\">\n",
       "      <th></th>\n",
       "      <th>review</th>\n",
       "      <th>cleaned_review</th>\n",
       "    </tr>\n",
       "  </thead>\n",
       "  <tbody>\n",
       "    <tr>\n",
       "      <th>0</th>\n",
       "      <td>One of the other reviewers has mentioned that ...</td>\n",
       "      <td>oneoftheotherreviewershasmentionedthatafterwat...</td>\n",
       "    </tr>\n",
       "    <tr>\n",
       "      <th>1</th>\n",
       "      <td>A wonderful little production. &lt;br /&gt;&lt;br /&gt;The...</td>\n",
       "      <td>awonderfullittleproductionthefilmingtechniquei...</td>\n",
       "    </tr>\n",
       "    <tr>\n",
       "      <th>2</th>\n",
       "      <td>I thought this was a wonderful way to spend ti...</td>\n",
       "      <td>ithoughtthiswasawonderfulwaytospendtimeonatooh...</td>\n",
       "    </tr>\n",
       "    <tr>\n",
       "      <th>3</th>\n",
       "      <td>Basically there's a family where a little boy ...</td>\n",
       "      <td>basicallytheresafamilywherealittleboyjakethink...</td>\n",
       "    </tr>\n",
       "    <tr>\n",
       "      <th>4</th>\n",
       "      <td>Petter Mattei's \"Love in the Time of Money\" is...</td>\n",
       "      <td>pettermatteisloveinthetimeofmoneyisavisuallyst...</td>\n",
       "    </tr>\n",
       "  </tbody>\n",
       "</table>\n",
       "</div>"
      ],
      "text/plain": [
       "                                              review  \\\n",
       "0  One of the other reviewers has mentioned that ...   \n",
       "1  A wonderful little production. <br /><br />The...   \n",
       "2  I thought this was a wonderful way to spend ti...   \n",
       "3  Basically there's a family where a little boy ...   \n",
       "4  Petter Mattei's \"Love in the Time of Money\" is...   \n",
       "\n",
       "                                      cleaned_review  \n",
       "0  oneoftheotherreviewershasmentionedthatafterwat...  \n",
       "1  awonderfullittleproductionthefilmingtechniquei...  \n",
       "2  ithoughtthiswasawonderfulwaytospendtimeonatooh...  \n",
       "3  basicallytheresafamilywherealittleboyjakethink...  \n",
       "4  pettermatteisloveinthetimeofmoneyisavisuallyst...  "
      ]
     },
     "execution_count": 26,
     "metadata": {},
     "output_type": "execute_result"
    }
   ],
   "source": [
    "df[['review', 'cleaned_review']].head()"
   ]
  },
  {
   "cell_type": "markdown",
   "id": "4d0e5303",
   "metadata": {},
   "source": [
    "## TF-IDF Vectorization"
   ]
  },
  {
   "cell_type": "code",
   "execution_count": null,
   "id": "2436ea13",
   "metadata": {},
   "outputs": [],
   "source": [
    "from sklearn.feature_extraction.text import TfidfVectorizer     \n",
    "    #TF-IDF = Term Frequency – Inverse Document Frequency\n",
    "    #It’s a method to convert text into numbers so ML models can learn from it.\n",
    "\n",
    "    #TF (Term Frequency)\n",
    "        #How often a word appears in a document.\n",
    "        #Example for review: \"movie was amazing amazing\"\n",
    "        #TF(\"amazing\") = 2 / 4 = 0.5\n",
    "\n",
    "    #IDF (Inverse Document Frequency)\n",
    "        #How rare a word is across all documents.\n",
    "        #Rare words get higher weight\n",
    "        #Common words like \"movie\", \"the\", \"is\" get lower weight\n",
    "        #formula: IDF(t) = log(N / df(t))\n",
    "        #N = total number of documents\n",
    "        #df(t) = number of documents containing word t"
   ]
  },
  {
   "cell_type": "code",
   "execution_count": 28,
   "id": "f0df7806",
   "metadata": {},
   "outputs": [],
   "source": [
    "Vectorizer = TfidfVectorizer(max_features=5000)"
   ]
  },
  {
   "cell_type": "code",
   "execution_count": 29,
   "id": "3979cc77",
   "metadata": {},
   "outputs": [],
   "source": [
    "X = Vectorizer.fit_transform(df['cleaned_review'])"
   ]
  },
  {
   "cell_type": "code",
   "execution_count": 30,
   "id": "99ada440",
   "metadata": {},
   "outputs": [],
   "source": [
    "X_array = X.toarray()"
   ]
  },
  {
   "cell_type": "code",
   "execution_count": 31,
   "id": "5cf8511f",
   "metadata": {},
   "outputs": [],
   "source": [
    "y = df['sentiment'].map({'positive':1, 'negative':0})"
   ]
  },
  {
   "cell_type": "code",
   "execution_count": 32,
   "id": "93bd3588",
   "metadata": {},
   "outputs": [
    {
     "name": "stdout",
     "output_type": "stream",
     "text": [
      "TF-IDF matrix shape: (50000, 5000)\n",
      "Target shape: (50000,)\n"
     ]
    }
   ],
   "source": [
    "print(\"TF-IDF matrix shape:\", X.shape)\n",
    "print(\"Target shape:\", y.shape)"
   ]
  },
  {
   "cell_type": "code",
   "execution_count": 33,
   "id": "d89d4a4f",
   "metadata": {},
   "outputs": [
    {
     "data": {
      "text/plain": [
       "array([[0., 0., 0., ..., 0., 0., 0.],\n",
       "       [0., 0., 0., ..., 0., 0., 0.],\n",
       "       [0., 0., 0., ..., 0., 0., 0.],\n",
       "       ...,\n",
       "       [0., 0., 0., ..., 0., 0., 0.],\n",
       "       [0., 0., 0., ..., 0., 0., 0.],\n",
       "       [0., 0., 0., ..., 0., 0., 0.]], shape=(10, 5000))"
      ]
     },
     "execution_count": 33,
     "metadata": {},
     "output_type": "execute_result"
    }
   ],
   "source": [
    "X_array[:10]"
   ]
  },
  {
   "cell_type": "code",
   "execution_count": null,
   "id": "d6354867",
   "metadata": {},
   "outputs": [],
   "source": []
  }
 ],
 "metadata": {
  "kernelspec": {
   "display_name": ".conda",
   "language": "python",
   "name": "python3"
  },
  "language_info": {
   "codemirror_mode": {
    "name": "ipython",
    "version": 3
   },
   "file_extension": ".py",
   "mimetype": "text/x-python",
   "name": "python",
   "nbconvert_exporter": "python",
   "pygments_lexer": "ipython3",
   "version": "3.11.13"
  }
 },
 "nbformat": 4,
 "nbformat_minor": 5
}
